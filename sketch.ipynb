{
 "cells": [
  {
   "cell_type": "code",
   "execution_count": 8,
   "id": "328cf905",
   "metadata": {},
   "outputs": [],
   "source": [
    "import torch\n",
    "import numpy as np\n",
    "import matplotlib.pyplot as plt\n",
    "import cmocean\n",
    "from flow import sample_images\n",
    "from transforms import radon\n",
    "from utils import load_checkpoint\n",
    "from torchdiffeq import odeint\n",
    "import time\n",
    "from torch import optim\n",
    "from torchmetrics import CatMetric\n",
    "from unet import Unet"
   ]
  },
  {
   "cell_type": "code",
   "execution_count": 9,
   "id": "a7996ec8",
   "metadata": {},
   "outputs": [],
   "source": [
    "torch.manual_seed(159753)\n",
    "np.random.seed(159753)\n",
    "\n",
    "torch.set_float32_matmul_precision('high')\n",
    "torch.backends.cudnn.benchmark = True\n",
    "torch.backends.cuda.matmul.allow_tf32 = True\n",
    "torch.backends.cudnn.allow_tf32 = True\n",
    "torch.backends.cuda.enable_flash_sdp(True)\n",
    "torch.backends.cuda.enable_mem_efficient_sdp(True)\n",
    "torch.backends.cuda.enable_math_sdp(True)\n",
    "\n",
    "device = torch.device('cuda' if torch.cuda.is_available() else 'cpu')\n"
   ]
  },
  {
   "cell_type": "code",
   "execution_count": 10,
   "id": "61164c7d",
   "metadata": {},
   "outputs": [],
   "source": [
    "\n",
    "%%capture\n",
    "checkpoint_path = 'checkpoints/32x32/ckp_3906.tar'\n",
    "device = torch.device('cuda' if torch.cuda.is_available() else 'cpu')\n",
    "model = Unet(ch=32).to(device)\n",
    "\n",
    "# ema_model = torch.optim.swa_utils.AveragedModel(\n",
    "#     model, multi_avg_fn=torch.optim.swa_utils.get_ema_multi_avg_fn(0.9999)\n",
    "# )\n",
    "_, _, model, _, _, _= load_checkpoint(model=model, path=checkpoint_path)\n",
    "model.eval()"
   ]
  },
  {
   "cell_type": "code",
   "execution_count": null,
   "id": "964dbb3f",
   "metadata": {},
   "outputs": [],
   "source": [
    "from typing import Callable, Dict, List, Optional\n",
    "\n",
    "from torch import autocast\n",
    "from torchdiffeq import odeint_adjoint \n",
    "import torch.nn as nn\n",
    "\n",
    "def inverse_loss_fn(x, y):\n",
    "    \"\"\"\n",
    "    Loss function for the inverse problem.\n",
    "    \"\"\"\n",
    "    device = x.device\n",
    "    if isinstance(x, np.ndarray):\n",
    "        x= torch.tensor(x, device=device, dtype=torch.float32)\n",
    "    if isinstance(y, np.ndarray):\n",
    "        y = torch.tensor(y, device=device, dtype=torch.float32)\n",
    "\n",
    "    x = x.float()\n",
    "    y = y.float()\n",
    "\n",
    "\n",
    "    loss = torch.mean((x - y) ** 2)\n",
    "\n",
    "    return loss\n",
    "    \n",
    "def ode_integrate(ode_func: nn.Module,\n",
    "                  init_x: torch.Tensor,\n",
    "                  ode_opts: Dict = {},\n",
    "                  t_eps: float = 0,\n",
    "                  init_t: float = 0.,\n",
    "                  final_t: float = 1.,\n",
    "                  t_arr: Optional[List[float]] = None,\n",
    "                  num_steps: int = 5,\n",
    "                  intermediate_points: bool = False\n",
    "      ) -> torch.Tensor:\n",
    "\n",
    "    if t_arr is None:\n",
    "        t = torch.linspace(init_t - t_eps, final_t, num_steps).to(init_x.device)\n",
    "    else:\n",
    "        t = torch.tensor(t_arr, dtype=torch.float32, device=init_x.device)\n",
    "\n",
    "    ode_opts = {\n",
    "        \"atol\": 1e-5, \n",
    "        \"rtol\": 1e-5, \n",
    "        \"method\": \"euler\", \n",
    "        **ode_opts\n",
    "    }\n",
    "\n",
    "    z = odeint(\n",
    "        func = lambda t, x: ode_func(x, t.expand(x.shape[0])),\n",
    "        y0 = init_x,\n",
    "        t = t,\n",
    "        **ode_opts\n",
    "    )\n",
    "\n",
    "    if not intermediate_points:\n",
    "        return z[-1]\n",
    "    return z\n"
   ]
  },
  {
   "cell_type": "code",
   "execution_count": 12,
   "id": "aa6a9288",
   "metadata": {},
   "outputs": [
    {
     "data": {
      "text/plain": [
       "<matplotlib.colorbar.Colorbar at 0x7f29b3eda340>"
      ]
     },
     "execution_count": 12,
     "metadata": {},
     "output_type": "execute_result"
    },
    {
     "data": {
      "image/png": "[encoded data removed]",
      "text/plain": [
       "<Figure size 1200x800 with 4 Axes>"
      ]
     },
     "metadata": {},
     "output_type": "display_data"
    }
   ],
   "source": [
    "# load data and select a random ground truth from test set\n",
    "test_data = torch.load('data/dataset-32.pt')[\"test\"]\n",
    "idx = np.random.randint(0, len(test_data))\n",
    "gt = test_data[idx].to(device).unsqueeze(0)\n",
    "\n",
    "# apply radon transform, and apply multiplicative noise\n",
    "img_radon = radon.radon_transform(gt.squeeze().cpu().numpy(), N=5)\n",
    "img_radon = torch.tensor(img_radon, device=device, dtype=torch.float32).unsqueeze(0)\n",
    "img_radon = img_radon.unsqueeze(0)  # add batch dimension   \n",
    "\n",
    "# mult noise\n",
    "img_radon = (1 + 0.1 * torch.randn_like(img_radon)) * img_radon\n",
    "# plot gt, plot img_radon, plot initial guess in x_0 space, and plot flow realization\n",
    "plt.figure(figsize=(12, 8))\n",
    "plt.subplot(2, 2, 1)\n",
    "plt.imshow(gt.squeeze().cpu().numpy(), cmap=cmocean.cm.dense)\n",
    "plt.title('Ground Truth')\n",
    "plt.axis('off')\n",
    "plt.colorbar()\n",
    "plt.subplot(2, 2, 2)\n",
    "plt.imshow(img_radon.squeeze().cpu().numpy(), cmap=cmocean.cm.dense)\n",
    "plt.title('Radon Transform measurement with Noise')\n",
    "plt.axis('off')\n",
    "plt.colorbar()"
   ]
  },
  {
   "cell_type": "code",
   "execution_count": null,
   "id": "80cbf1df",
   "metadata": {},
   "outputs": [],
   "source": [
    "# getting normalization constants\n",
    "train_min, train_max = torch.min(torch.load('data/dataset-32.pt')[\"train\"]), torch.max(torch.load('data/dataset-32.pt')[\"train\"])"
   ]
  },
  {
   "cell_type": "code",
   "execution_count": null,
   "id": "324f5d95",
   "metadata": {},
   "outputs": [],
   "source": [
    "oversampling_param = 10\n",
    "sketch_dim = 100\n"
   ]
  }
 ],
 "metadata": {
  "kernelspec": {
   "display_name": "venv",
   "language": "python",
   "name": "python3"
  },
  "language_info": {
   "codemirror_mode": {
    "name": "ipython",
    "version": 3
   },
   "file_extension": ".py",
   "mimetype": "text/x-python",
   "name": "python",
   "nbconvert_exporter": "python",
   "pygments_lexer": "ipython3",
   "version": "3.9.21"
  }
 },
 "nbformat": 4,
 "nbformat_minor": 5
}
